{
 "cells": [
  {
   "cell_type": "markdown",
   "id": "172ab128",
   "metadata": {},
   "source": [
    "# Explore Sequence Diversity\n",
    "\n",
    "This notebook is for exploring protein sequence diversity in a set of CAZymes, e.g. a CAZy family.\n",
    "\n",
    "Prior to using this notebook:\n",
    "\n",
    "1. Build a local CAZyme db using `cazy_webscraper`\n",
    "2. Retrieve the protein sequences for each CAZy family of interest using the `cazomevole` subcommand `get_fam_seqs`\n",
    "3. Run all-vs-all analysis using BLAST or DIAMOND using the `cazomevolve` subcommands `run_fam_blast` and `run_fam_diamond`, respectively\n",
    "\n",
    "This notebook takes as input the output from BLASTP+/DIAMOND and visualises the data. \n",
    "\n",
    "Feel free to use this notebook as a template to perform further analyses."
   ]
  },
  {
   "cell_type": "markdown",
   "id": "98147226",
   "metadata": {},
   "source": [
    "## Imports"
   ]
  },
  {
   "cell_type": "code",
   "execution_count": null,
   "id": "e4f178c9",
   "metadata": {},
   "outputs": [],
   "source": [
    "from cazomevolve.seq_diversity.explore.cazy import get_cazy_proteins, get_cazy_db_prots\n",
    "from cazomevolve.seq_diversity.explore.parse import load_data, remove_redunant_prots\n",
    "from cazomevolve.seq_diversity.explore.plot import plot_clustermap, plot_heatmap_of_clustermap"
   ]
  },
  {
   "cell_type": "markdown",
   "id": "c3f1a8ac",
   "metadata": {},
   "source": [
    "## Constants\n",
    "\n",
    "Define proteins of interest, e.g. proteins to be explored in the lab. These will be highlighed on the resulting clustermaps and heatmaps.\n",
    "\n",
    "The `dict` uses the group name (e.g. a CAZy family) as the key, and is valued by a list of the NCBI protein version accessions."
   ]
  },
  {
   "cell_type": "code",
   "execution_count": null,
   "id": "c4f7bf5b",
   "metadata": {},
   "outputs": [],
   "source": [
    "CANDIDATES = {\n",
    "    'grp_name': ['protein_acc']\n",
    "}"
   ]
  },
  {
   "cell_type": "markdown",
   "id": "d6a6a9df",
   "metadata": {},
   "source": [
    "## Get 'characterised' proteins from CAZy\n",
    "\n",
    "To retrieve proteins listed in the 'characterised' or 'structure' tables in CAZy, using the `get_cazy_db_prots` function.\n",
    "\n",
    "We store proteins listed in the characterised table in the variable `characterised_prots`, and proteins in the structure table are listed in `structure_prots`."
   ]
  },
  {
   "cell_type": "code",
   "execution_count": null,
   "id": "52ba6c05",
   "metadata": {},
   "outputs": [],
   "source": [
    "characterised_prots = {}  # {fam: [prot acc]}\n",
    "characterised_prots['PL1'] = get_cazy_db_prots('PL1', characterised=True)\n",
    "characterised_prots"
   ]
  },
  {
   "cell_type": "code",
   "execution_count": null,
   "id": "9dd0be84",
   "metadata": {},
   "outputs": [],
   "source": [
    "structured_prots = {}  # {fam: [prot acc]}\n",
    "structured_prots['PL1'] = get_cazy_db_prots('PL1', structured=True)\n",
    "structured_prots"
   ]
  },
  {
   "cell_type": "markdown",
   "id": "5d410faf",
   "metadata": {},
   "source": [
    "## Family analysis\n",
    "\n",
    "Here is some example code for running the analysis for CAZy family PL20.\n"
   ]
  },
  {
   "cell_type": "code",
   "execution_count": null,
   "id": "70626b7d",
   "metadata": {},
   "outputs": [],
   "source": [
    "# load data\n",
    "pl20_df = load_diamond_data('pl20_blastp_out', 'PL20')"
   ]
  },
  {
   "cell_type": "code",
   "execution_count": null,
   "id": "ce71225d",
   "metadata": {},
   "outputs": [],
   "source": [
    "# build clustermap of BLAST Score Ratio\n",
    "pl20_bsr_plt = plot_clustermap(pl20_df, 'PL20', 'BSR', fig_size=(100, 100), save_fig='pl20_clustermap.png')\n",
    "pl20_bsr_plt"
   ]
  },
  {
   "cell_type": "code",
   "execution_count": null,
   "id": "7cd53731",
   "metadata": {},
   "outputs": [],
   "source": [
    "# plot a clustermap of only the candidates and functionally/structurally characterised proteins\n",
    "# that is also annotated to differentiate, candidates and functionally/structurally characterised proteins\n",
    "pl20_char_bsr_plt = plot_clustermap(\n",
    "    pl4_df,\n",
    "    'PL20',\n",
    "    'BSR',\n",
    "    fig_size=(7, 7),\n",
    "    save_fig='pl20_clustermap_char.png',\n",
    "    char_only=True,\n",
    "    annotate=True,\n",
    ")\n",
    "pl20_char_bsr_plt"
   ]
  },
  {
   "cell_type": "markdown",
   "id": "57e3e920",
   "metadata": {},
   "source": [
    "Then plot the precentage identity and query coverage for the candidate and functionally/structurally characterised proteins, plotting the proteins on the heatmaps in the same order as they appear in the clustermap."
   ]
  },
  {
   "cell_type": "code",
   "execution_count": null,
   "id": "1571405e",
   "metadata": {},
   "outputs": [],
   "source": [
    "print('PL20 percentage identity, colour scheme blue')\n",
    "plot_heatmap_of_clustermap(\n",
    "    pl20_char_bsr_plt,\n",
    "    pl20_df,\n",
    "    'PL20',\n",
    "    'pident',\n",
    "    fig_size=(7, 7),\n",
    "    save_fig='pl20_clustermap_PIDENT_char.png',\n",
    "    colour_scheme=sns.color_palette(\"Blues\", as_cmap=True),\n",
    ")"
   ]
  },
  {
   "cell_type": "code",
   "execution_count": null,
   "id": "e01fb64c",
   "metadata": {},
   "outputs": [],
   "source": [
    "print('PL20 query coverage, colour scheme purple')\n",
    "plot_heatmap_of_clustermap(\n",
    "    pl20_char_bsr_plt,\n",
    "    pl20_df,\n",
    "    'PL20',\n",
    "    'qcov',\n",
    "    fig_size=(7, 7),\n",
    "    save_fig='pl20_clustermap_QCOV_char.png',\n",
    "    colour_scheme=sns.color_palette(\"Purples\", as_cmap=True),\n",
    ")"
   ]
  }
 ],
 "metadata": {
  "kernelspec": {
   "display_name": "Python 3 (ipykernel)",
   "language": "python",
   "name": "python3"
  },
  "language_info": {
   "codemirror_mode": {
    "name": "ipython",
    "version": 3
   },
   "file_extension": ".py",
   "mimetype": "text/x-python",
   "name": "python",
   "nbconvert_exporter": "python",
   "pygments_lexer": "ipython3",
   "version": "3.8.10"
  }
 },
 "nbformat": 4,
 "nbformat_minor": 5
}
